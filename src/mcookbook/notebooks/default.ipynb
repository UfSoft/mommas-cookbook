{
 "cells": [
  {
   "cell_type": "markdown",
   "id": "0b3b37bd-c6ff-4b39-a170-2886ac6562a9",
   "metadata": {},
   "source": [
    "# Import required libraries"
   ]
  },
  {
   "cell_type": "code",
   "execution_count": null,
   "id": "24599838-7701-4347-aeb2-ae623f841f71",
   "metadata": {},
   "outputs": [],
   "source": [
    "import os\n",
    "import json\n",
    "import pathlib\n",
    "from mcookbook.config.notebook import NotebookConfig\n",
    "from mcookbook.exchanges.abc import Exchange"
   ]
  },
  {
   "cell_type": "markdown",
   "id": "3695c168-6302-4580-9dcd-4034f5a6b9e5",
   "metadata": {},
   "source": [
    "# Paths to configuration files"
   ]
  },
  {
   "cell_type": "code",
   "execution_count": null,
   "id": "32993e64-4b6e-4b1c-8ac6-97f9ae3e98b9",
   "metadata": {},
   "outputs": [],
   "source": [
    "config_files = json.loads(os.environ.get(\"MCB_CONFIG_FILES\") or \"[]\")"
   ]
  },
  {
   "cell_type": "markdown",
   "id": "3f19a421-5353-4b6b-92e4-c411cd0aee49",
   "metadata": {},
   "source": [
    "# Load the configuration"
   ]
  },
  {
   "cell_type": "code",
   "execution_count": null,
   "id": "82ccfb65-c17b-4181-b5a7-319fd09a21fe",
   "metadata": {},
   "outputs": [],
   "source": [
    "config = NotebookConfig.parse_files(*config_files)"
   ]
  },
  {
   "cell_type": "markdown",
   "id": "c94e7c5b-5b18-42eb-be78-7e61c274c4ae",
   "metadata": {},
   "source": [
    "# Initialize the configured exchange"
   ]
  },
  {
   "cell_type": "code",
   "execution_count": null,
   "id": "33745fe0-94e1-4ca2-9c7c-db666c63e5b7",
   "metadata": {},
   "outputs": [],
   "source": [
    "exchange = Exchange.resolved(config)"
   ]
  },
  {
   "cell_type": "code",
   "execution_count": null,
   "id": "49563dde-2d15-4f41-9637-dd302a186fc4",
   "metadata": {},
   "outputs": [],
   "source": []
  }
 ],
 "metadata": {
  "kernelspec": {
   "display_name": "Python 3 (ipykernel)",
   "language": "python",
   "name": "python3"
  },
  "language_info": {
   "codemirror_mode": {
    "name": "ipython",
    "version": 3
   },
   "file_extension": ".py",
   "mimetype": "text/x-python",
   "name": "python",
   "nbconvert_exporter": "python",
   "pygments_lexer": "ipython3",
   "version": "3.9.7"
  }
 },
 "nbformat": 4,
 "nbformat_minor": 5
}
